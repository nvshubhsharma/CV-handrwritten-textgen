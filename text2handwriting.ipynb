{
 "cells": [
  {
   "cell_type": "code",
   "execution_count": 1,
   "metadata": {},
   "outputs": [
    {
     "data": {
      "text/plain": [
       "'C:\\\\Users\\\\Shubh'"
      ]
     },
     "execution_count": 1,
     "metadata": {},
     "output_type": "execute_result"
    }
   ],
   "source": [
    "%pwd"
   ]
  },
  {
   "cell_type": "code",
   "execution_count": 2,
   "metadata": {},
   "outputs": [
    {
     "name": "stdout",
     "output_type": "stream",
     "text": [
      "C:\\Users\\Shubh\\New_Project\n"
     ]
    }
   ],
   "source": [
    "%cd C:\\\\Users\\\\Shubh\\New_Project"
   ]
  },
  {
   "cell_type": "code",
   "execution_count": 3,
   "metadata": {},
   "outputs": [],
   "source": [
    "import cv2"
   ]
  },
  {
   "cell_type": "code",
   "execution_count": 4,
   "metadata": {},
   "outputs": [],
   "source": [
    "import os\n",
    "import textwrap\n",
    "import numpy as np"
   ]
  },
  {
   "cell_type": "code",
   "execution_count": 5,
   "metadata": {},
   "outputs": [],
   "source": [
    "DIR=r'C:\\Users\\Shubh\\New_Project\\charset'"
   ]
  },
  {
   "cell_type": "code",
   "execution_count": 6,
   "metadata": {},
   "outputs": [],
   "source": [
    "def crop(img,cropX=10,cropY=10):\n",
    "    crimg= img[cropY:img.shape[0]-cropY,cropX:img.shape[1]-cropX]\n",
    "    return crimg"
   ]
  },
  {
   "cell_type": "code",
   "execution_count": 7,
   "metadata": {},
   "outputs": [],
   "source": [
    "def rescale(img,x,y):\n",
    "    rescaled=cv2.resize(img,None,fx=x,fy=y)\n",
    "    return rescaled"
   ]
  },
  {
   "cell_type": "code",
   "execution_count": 8,
   "metadata": {},
   "outputs": [],
   "source": [
    "def line2img(line):\n",
    "    char_img=[]\n",
    "    for letter in line:\n",
    "        if ord(letter)>127:\n",
    "            letter=\" \"\n",
    "        asc=ord(letter)\n",
    "        path=os.path.join(DIR,str(asc)+'.jpg')\n",
    "        img=cv2.imread(path)\n",
    "        char_img.append(crop(img,27,5))\n",
    "    img_line=cv2.hconcat(char_img)\n",
    "    return img_line\n",
    "        "
   ]
  },
  {
   "cell_type": "code",
   "execution_count": 28,
   "metadata": {},
   "outputs": [],
   "source": [
    "line_imgs=[]\n",
    "para=[]\n",
    "f=open('output_OCR3.txt','r')"
   ]
  },
  {
   "cell_type": "code",
   "execution_count": 29,
   "metadata": {},
   "outputs": [],
   "source": [
    "lines=f.read().splitlines()"
   ]
  },
  {
   "cell_type": "code",
   "execution_count": 30,
   "metadata": {},
   "outputs": [],
   "source": [
    "lw=50 \n",
    " "
   ]
  },
  {
   "cell_type": "code",
   "execution_count": 31,
   "metadata": {},
   "outputs": [],
   "source": [
    "wrapper=textwrap.TextWrapper(width=lw,initial_indent=\" \",subsequent_indent=\" \")"
   ]
  },
  {
   "cell_type": "code",
   "execution_count": 32,
   "metadata": {},
   "outputs": [],
   "source": [
    "for i in lines:\n",
    "    line_list=wrapper.wrap(text=i)\n",
    "    if len(line_list)==0:\n",
    "        line_list=' '\n",
    "    for line in line_list:\n",
    "        if len(line)!=lw:\n",
    "            line= line +\" \"*(lw-len(line))\n",
    "        line_imgs.append(line2img(line))\n",
    "        par_img=cv2.vconcat(line_imgs)\n",
    "        para.append(par_img)\n",
    "        line_imgs.clear()\n",
    "image=cv2.vconcat(para)\n",
    "rescaled=rescale(image,0.15,0.20)\n",
    "cv2.imshow('final',rescaled)\n",
    "cv2.waitKey(0)\n",
    "cv2.imwrite('handrwritten3.jpg',rescaled)\n",
    "cv2.destroyAllWindows()\n",
    "\n",
    "        \n",
    "        "
   ]
  },
  {
   "cell_type": "code",
   "execution_count": null,
   "metadata": {},
   "outputs": [],
   "source": []
  }
 ],
 "metadata": {
  "kernelspec": {
   "display_name": "Python 3",
   "language": "python",
   "name": "python3"
  },
  "language_info": {
   "codemirror_mode": {
    "name": "ipython",
    "version": 3
   },
   "file_extension": ".py",
   "mimetype": "text/x-python",
   "name": "python",
   "nbconvert_exporter": "python",
   "pygments_lexer": "ipython3",
   "version": "3.7.4"
  }
 },
 "nbformat": 4,
 "nbformat_minor": 2
}
